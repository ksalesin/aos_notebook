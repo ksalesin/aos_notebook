{
 "cells": [
  {
   "cell_type": "markdown",
   "id": "8cfdba43",
   "metadata": {},
   "source": [
    "## Rayleigh data comparison\n",
    "This script compares measured Stokes vectors above a Rayleigh atmosphere with varying parameters: tau (optical depth), mu_photon (cos zenith angle), mu_sensor (cos zenith angle), phi (relative azimuth angle between photon emitter and sensor), and albedo of diffuse surface beneath atmosphere. "
   ]
  },
  {
   "cell_type": "code",
   "execution_count": 8,
   "id": "579fda0d",
   "metadata": {},
   "outputs": [],
   "source": [
    "import sys\n",
    "sys.path.append('..')\n",
    "\n",
    "import json\n",
    "import numpy as np\n",
    "import plotly.graph_objects as go\n",
    "from plotly.subplots import make_subplots\n",
    "from ipywidgets import widgets, interact\n",
    "\n",
    "from parse_rayleigh_data import parse_file"
   ]
  },
  {
   "cell_type": "code",
   "execution_count": 9,
   "id": "4c9db7a7",
   "metadata": {},
   "outputs": [],
   "source": [
    "tau_values = [0.02, 0.05, 0.1, 0.15, 0.25, 0.5, 1.0]\n",
    "albedo_values = [0.0, 0.25, 0.8]\n",
    "mu_photon_values = [0.1, 0.2, 0.4, 0.6, 0.8, 0.92, 1.0]\n",
    "mu_sensor_values = [0.02, 0.06, 0.1, 0.16, 0.2, 0.28, 0.32, 0.4, 0.52, 0.64, 0.72, 0.84, 0.92, 0.96, 0.98]\n",
    "phi_values = [0.0, 30.0, 60.0, 90.0, 120.0, 150.0, 180.0]"
   ]
  },
  {
   "cell_type": "code",
   "execution_count": 10,
   "id": "de75921f",
   "metadata": {},
   "outputs": [],
   "source": [
    "ref_prefix = '../rayleigh_data/'\n",
    "\n",
    "def create_filename(stokes_str, tau):\n",
    "    tau_str = str(tau) if tau != 1.0 else '1'\n",
    "    return stokes_str + '_UP_TAU_' + tau_str\n",
    "\n",
    "data_ref = {'I': {}, 'Q': {}, 'U': {}}\n",
    "\n",
    "for s in ['I', 'Q', 'U']:\n",
    "    for t in tau_values:\n",
    "        filename = create_filename(s, t)\n",
    "        chunk = parse_file(ref_prefix + filename)\n",
    "        data_ref[s].update(chunk)"
   ]
  },
  {
   "cell_type": "code",
   "execution_count": 13,
   "id": "f91f0485",
   "metadata": {},
   "outputs": [],
   "source": [
    "mts_file = '../rayleigh_path_mts.json'\n",
    "\n",
    "with open(mts_file, 'r') as f:\n",
    "    data_mts = json.load(f)"
   ]
  },
  {
   "cell_type": "code",
   "execution_count": 15,
   "id": "6bb53a87",
   "metadata": {},
   "outputs": [
    {
     "data": {
      "application/vnd.jupyter.widget-view+json": {
       "model_id": "3e2cc6088d8a42dea8215190e69d8411",
       "version_major": 2,
       "version_minor": 0
      },
      "text/plain": [
       "VBox(children=(ToggleButtons(description='stokes', options=('I', 'Q', 'U'), tooltips=('Total radiance', '0/90 …"
      ]
     },
     "metadata": {},
     "output_type": "display_data"
    },
    {
     "data": {
      "application/vnd.jupyter.widget-view+json": {
       "model_id": "52bf28c315c6424294513f1bfe9884bf",
       "version_major": 2,
       "version_minor": 0
      },
      "text/plain": [
       "FigureWidget({\n",
       "    'data': [{'mode': 'lines',\n",
       "              'name': '[Natraj et al. 2009]',\n",
       "              'typ…"
      ]
     },
     "metadata": {},
     "output_type": "display_data"
    }
   ],
   "source": [
    "import math\n",
    "\n",
    "def selection_slider(options, value, description):\n",
    "    return widgets.SelectionSlider(options = options, value = value,description = description, \n",
    "                                   continuous_update = False, orientation = 'horizontal', readout = True, \n",
    "                                   layout = widgets.Layout(width = '95%'))\n",
    "\n",
    "stokes_select = widgets.ToggleButtons(options = ['I', 'Q', 'U'], description='stokes', disabled=False,\n",
    "    tooltips=['Total radiance', '0/90 deg polarized component', '45/135 deg polarized component'],\n",
    ")\n",
    "\n",
    "tau_select = selection_slider(options = tau_values, value = 0.5, description = 'tau')\n",
    "albedo_select = selection_slider(options = albedo_values, value = 0.0, description = 'albedo')\n",
    "mu_photon_select = selection_slider(options = mu_photon_values, value = 0.6, description = 'mu_photon')\n",
    "mu_sensor_select = selection_slider(options = mu_sensor_values, value = 0.1, description = 'mu_sensor')\n",
    "phi_select = selection_slider(options = phi_values, value = 0.0, description = 'phi')\n",
    "\n",
    "x_select = widgets.ToggleButtons(options = ['tau', 'mu_photon', 'mu_sensor', 'phi'], value = 'phi', \n",
    "                                 description = 'x axis', disabled = False)\n",
    "\n",
    "ui = widgets.VBox(children = [stokes_select, tau_select, albedo_select, mu_photon_select, mu_sensor_select, \n",
    "                              phi_select, x_select])\n",
    "\n",
    "plot_ref = go.Scatter(x = np.array(phi_values), y = np.zeros(len(phi_values)),\n",
    "                      mode = 'lines',\n",
    "                      line = dict(), \n",
    "                      name = '[Natraj et al. 2009]')\n",
    "\n",
    "plot_mts = go.Scatter(x = np.array(phi_values), y = np.zeros(len(phi_values)),\n",
    "                      mode = 'lines', \n",
    "                      line = dict(), \n",
    "                      name = 'Ours')\n",
    "\n",
    "layout = go.Layout(\n",
    "    xaxis_title_text = 'phi',\n",
    "    yaxis_title_text = 'Stokes value',\n",
    "    yaxis_range = [0.0, 1.0],\n",
    "    showlegend = True\n",
    ")\n",
    "\n",
    "fig = go.FigureWidget(data = [plot_ref, plot_mts], layout = layout)\n",
    "\n",
    "def update(stokes_select, tau_select, albedo_select, mu_photon_select, mu_sensor_select, phi_select, x_select):\n",
    "    if x_select == 'tau':\n",
    "        x_new = tau_values\n",
    "        x_title = 'tau'\n",
    "        data_ref_tmp = data_ref[stokes_select]\n",
    "        data_ref_new = [data_ref_tmp[t][albedo_select][mu_photon_select][mu_sensor_select][phi_select] for t in tau_values]\n",
    "        data_mts_tmp = data_mts[stokes_select]\n",
    "        data_mts_new = [data_mts_tmp[str(t)][str(albedo_select)][str(mu_photon_select)][str(mu_sensor_select)][str(phi_select)] for t in tau_values]\n",
    "    elif x_select == 'mu_photon':\n",
    "        x_new = mu_photon_values\n",
    "        x_title = 'mu_photon'\n",
    "        data_ref_tmp = data_ref[stokes_select][tau_select][albedo_select]\n",
    "        data_ref_new = [data_ref_tmp[p][mu_sensor_select][phi_select] for p in mu_photon_values]\n",
    "        data_mts_tmp = data_mts[stokes_select][str(tau_select)][str(albedo_select)]\n",
    "        data_mts_new = [data_mts_tmp[str(p)][str(mu_sensor_select)][str(phi_select)] for p in mu_photon_values]\n",
    "    elif x_select == 'mu_sensor':\n",
    "        x_new = mu_sensor_values\n",
    "        x_title = 'mu_sensor'\n",
    "        data_ref_tmp = data_ref[stokes_select][tau_select][albedo_select][mu_photon_select]\n",
    "        data_ref_new = [data_ref_tmp[s][phi_select] for s in mu_sensor_values]\n",
    "        data_mts_tmp = data_mts[stokes_select][str(tau_select)][str(albedo_select)][str(mu_photon_select)]\n",
    "        data_mts_new = [data_mts_tmp[str(s)][str(phi_select)] for s in mu_sensor_values]\n",
    "    elif x_select == 'phi':\n",
    "        x_new = phi_values\n",
    "        x_title = 'phi'\n",
    "        data_ref_tmp = data_ref[stokes_select][tau_select][albedo_select][mu_photon_select][mu_sensor_select]     \n",
    "        data_ref_new = [data_ref_tmp[p] for p in phi_values]\n",
    "        data_mts_tmp = data_mts[stokes_select][str(tau_select)][str(albedo_select)][str(mu_photon_select)][str(mu_sensor_select)]     \n",
    "        data_mts_new = [data_mts_tmp[str(p)] for p in phi_values]\n",
    "    else:\n",
    "        pass\n",
    "    \n",
    "    # Update plots\n",
    "    with fig.batch_update():\n",
    "        fig.data[0].x = np.array(x_new)\n",
    "        fig.data[0].y = np.array(data_ref_new)\n",
    "        fig.data[1].x = np.array(x_new)\n",
    "        fig.data[1].y = np.array(data_mts_new)\n",
    "        \n",
    "        fig.layout.xaxis.title.text = x_title\n",
    "\n",
    "out = widgets.interactive_output(update, {'stokes_select': stokes_select, 'tau_select': tau_select, \n",
    "                                          'albedo_select': albedo_select, 'mu_photon_select': mu_photon_select, \n",
    "                                          'mu_sensor_select': mu_sensor_select, 'phi_select': phi_select,\n",
    "                                          'x_select': x_select})\n",
    "\n",
    "display(ui)\n",
    "fig"
   ]
  },
  {
   "cell_type": "code",
   "execution_count": null,
   "id": "101733c4",
   "metadata": {},
   "outputs": [],
   "source": []
  }
 ],
 "metadata": {
  "kernelspec": {
   "display_name": "Python 3",
   "language": "python",
   "name": "python3"
  },
  "language_info": {
   "codemirror_mode": {
    "name": "ipython",
    "version": 3
   },
   "file_extension": ".py",
   "mimetype": "text/x-python",
   "name": "python",
   "nbconvert_exporter": "python",
   "pygments_lexer": "ipython3",
   "version": "3.8.5"
  }
 },
 "nbformat": 4,
 "nbformat_minor": 5
}
