{
 "cells": [
  {
   "cell_type": "markdown",
   "id": "8cfdba43",
   "metadata": {},
   "source": [
    "## [Chowdhary et al. 2020] data comparison\n",
    "This script compares measured Stokes vectors above an atmosphere-ocean system described in [Chowdhary et al. 2020]."
   ]
  },
  {
   "cell_type": "code",
   "execution_count": 1,
   "id": "579fda0d",
   "metadata": {},
   "outputs": [],
   "source": [
    "import sys\n",
    "sys.path.append('..')\n",
    "\n",
    "import math\n",
    "import json\n",
    "import numpy as np\n",
    "import plotly.graph_objects as go\n",
    "from plotly.subplots import make_subplots\n",
    "from ipywidgets import widgets, interact\n",
    "\n",
    "from parse_egap_data import get_data"
   ]
  },
  {
   "cell_type": "code",
   "execution_count": 2,
   "id": "4c9db7a7",
   "metadata": {},
   "outputs": [],
   "source": [
    "wavelength_values = [350., 450., 550., 650.]\n",
    "theta_photon_values = [30.0, 60.0]\n",
    "phi_values = [0.0, 60.0, 180.0, 240.0]\n",
    "theta_sensor_values = np.linspace(0.0, 60.0, 13)"
   ]
  },
  {
   "cell_type": "code",
   "execution_count": 3,
   "id": "101733c4",
   "metadata": {
    "scrolled": false
   },
   "outputs": [
    {
     "data": {
      "application/vnd.jupyter.widget-view+json": {
       "model_id": "c651d9f989f348729d09de294758a476",
       "version_major": 2,
       "version_minor": 0
      },
      "text/plain": [
       "VBox(children=(ToggleButtons(description='model', options=('AOS_1', 'AOS_2', 'AOS_3'), value='AOS_1'), ToggleB…"
      ]
     },
     "metadata": {},
     "output_type": "display_data"
    },
    {
     "data": {
      "application/vnd.jupyter.widget-view+json": {
       "model_id": "ed32eb71bfa848ee980c3d8680c7a2d0",
       "version_major": 2,
       "version_minor": 0
      },
      "text/plain": [
       "FigureWidget({\n",
       "    'data': [{'mode': 'lines',\n",
       "              'name': '[Chowdhary et al. 2020]',\n",
       "              '…"
      ]
     },
     "metadata": {},
     "output_type": "display_data"
    }
   ],
   "source": [
    "def selection_slider(options, value, description):\n",
    "    return widgets.SelectionSlider(options = options, value = value,description = description, \n",
    "                                   continuous_update = False, orientation = 'horizontal', readout = True, \n",
    "                                   layout = widgets.Layout(width = '95%'))\n",
    "\n",
    "model_select = widgets.ToggleButtons(options = ['AOS_1', 'AOS_2', 'AOS_3'], description='model', disabled=False) \n",
    "\n",
    "stokes_select = widgets.ToggleButtons(options = ['R_I', 'DOP'], description='data', disabled=False,\n",
    "    tooltips=['Total reflectance', 'Degree of polarization'],\n",
    ")\n",
    "\n",
    "wav_select = selection_slider(options = wavelength_values, value = 350.0, description = 'wavelength')\n",
    "theta_photon_select = selection_slider(options = theta_photon_values, value = 30.0, description = 'theta_photon')\n",
    "phi_select = selection_slider(options = phi_values, value = 0.0, description = 'phi')\n",
    "\n",
    "ui_elements = [model_select, stokes_select, wav_select, theta_photon_select, phi_select]\n",
    "ui = widgets.VBox(children = ui_elements)\n",
    "\n",
    "plot_ref = go.Scatter(x = np.array(theta_sensor_values), y = np.zeros(len(theta_sensor_values)),\n",
    "                      mode = 'lines', \n",
    "                      line = dict(), \n",
    "                      name = '[Chowdhary et al. 2020]')\n",
    "\n",
    "plot_mts = go.Scatter(x = np.array(theta_sensor_values), y = np.zeros(len(theta_sensor_values)),\n",
    "                      mode = 'lines', \n",
    "                      line = dict(), \n",
    "                      name = 'Ours')\n",
    "\n",
    "plot_diff = go.Scatter(x = np.array(theta_sensor_values), y = np.zeros(len(theta_sensor_values)),\n",
    "                      mode = 'lines', \n",
    "                      line = dict(), \n",
    "                      name = '% Error',\n",
    "                      yaxis = 'y2')\n",
    "\n",
    "layout = go.Layout(\n",
    "    xaxis_title_text = 'theta_sensor',\n",
    "    yaxis = dict(\n",
    "                title_text = 'Reflectance',\n",
    "                range = [0.0, 1.0]\n",
    "            ),\n",
    "    yaxis2 = dict(\n",
    "                title_text = '% Error',\n",
    "                range = [-10.0, 10.0],\n",
    "                anchor = 'x',\n",
    "                overlaying = 'y',\n",
    "                side = 'right',\n",
    "                showgrid = False\n",
    "            ),\n",
    "    showlegend = True\n",
    ")\n",
    "\n",
    "fig = go.FigureWidget(data = [plot_ref, plot_mts, plot_diff], layout = layout)\n",
    "\n",
    "def update(model_select, stokes_select, wav_select, theta_photon_select, phi_select):\n",
    "    \n",
    "    # Load experiment data\n",
    "    mts_file = '../' + model_select + '_mts.json'\n",
    "\n",
    "    with open(mts_file, 'r') as f:\n",
    "        data_mts = json.load(f)\n",
    "\n",
    "    mu_photon = math.cos(np.deg2rad(theta_photon_select))\n",
    "\n",
    "    if stokes_select == 'R_I':\n",
    "        data_ref_new = get_data('../egap_data', model_select, theta_photon_select, phi_select, wav_select)\n",
    "        data_ref_new = data_ref_new[:,1]\n",
    "        \n",
    "        data_mts_tmp = data_mts[stokes_select[2]][str(wav_select)][str(theta_photon_select)]\n",
    "        data_mts_new = [data_mts_tmp[str(s)][str(phi_select)] for s in theta_sensor_values]\n",
    "        data_mts_new = np.array(data_mts_new)\n",
    "\n",
    "        # Convert to reflectance quantity\n",
    "        data_mts_new = data_mts_new / mu_photon\n",
    "\n",
    "    elif stokes_select == 'DOP':\n",
    "        data_ref_new = get_data('../egap_data', model_select, theta_photon_select, phi_select, wav_select)\n",
    "        \n",
    "        data_ref_RI = data_ref_new[:,1]\n",
    "        data_ref_RQ = data_ref_new[:,2]\n",
    "        data_ref_RU = data_ref_new[:,3]\n",
    "        \n",
    "        # Convert to original Stokes vector quantity\n",
    "        data_ref_I  = data_ref_RI * mu_photon\n",
    "        data_ref_Q  = data_ref_RQ * mu_photon\n",
    "        data_ref_U  = data_ref_RU * mu_photon\n",
    "        \n",
    "        data_ref_new = np.sqrt(data_ref_Q * data_ref_Q + data_ref_U * data_ref_U) / data_ref_I * 100.0\n",
    "        \n",
    "        data_mts_tmp = data_mts['I'][str(wav_select)][str(theta_photon_select)]\n",
    "        data_mts_I = np.array([data_mts_tmp[str(s)][str(phi_select)] for s in theta_sensor_values])\n",
    "        data_mts_tmp = data_mts['Q'][str(wav_select)][str(theta_photon_select)]\n",
    "        data_mts_Q = np.array([data_mts_tmp[str(s)][str(phi_select)] for s in theta_sensor_values])\n",
    "        data_mts_tmp = data_mts['U'][str(wav_select)][str(theta_photon_select)]\n",
    "        data_mts_U = np.array([data_mts_tmp[str(s)][str(phi_select)] for s in theta_sensor_values])\n",
    "        \n",
    "        data_mts_new = np.sqrt(data_mts_Q * data_mts_Q + data_mts_U * data_mts_U) / data_mts_I * 100.0\n",
    "        \n",
    "    else:\n",
    "        pass\n",
    "    \n",
    "    # Update plots\n",
    "    with fig.batch_update():\n",
    "        fig.data[0].y = data_ref_new\n",
    "        fig.data[1].y = data_mts_new\n",
    "        fig.data[2].y = (data_mts_new - data_ref_new) / data_ref_new * 100.0\n",
    "        \n",
    "        if stokes_select == 'DOP':\n",
    "            fig.layout.yaxis.range = [0.0, 100.0]\n",
    "            fig.layout.yaxis.title.text = 'DOP'\n",
    "        else:\n",
    "            dmax = np.amax(data_ref_new)\n",
    "            fig.layout.yaxis.range = [0.0, 1.0] if dmax <= 1.0 else [0.0, dmax]\n",
    "            fig.layout.yaxis.title.text = 'Reflectance'\n",
    "\n",
    "out = widgets.interactive_output(update, {'model_select': model_select, 'stokes_select': stokes_select, \n",
    "                                          'wav_select': wav_select, 'theta_photon_select': theta_photon_select, \n",
    "                                          'phi_select': phi_select})\n",
    "\n",
    "display(ui)\n",
    "fig"
   ]
  },
  {
   "cell_type": "code",
   "execution_count": null,
   "id": "3e21bc11",
   "metadata": {},
   "outputs": [],
   "source": []
  }
 ],
 "metadata": {
  "kernelspec": {
   "display_name": "Python 3",
   "language": "python",
   "name": "python3"
  },
  "language_info": {
   "codemirror_mode": {
    "name": "ipython",
    "version": 3
   },
   "file_extension": ".py",
   "mimetype": "text/x-python",
   "name": "python",
   "nbconvert_exporter": "python",
   "pygments_lexer": "ipython3",
   "version": "3.8.5"
  }
 },
 "nbformat": 4,
 "nbformat_minor": 5
}
